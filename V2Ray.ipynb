{
  "cells": [
    {
      "cell_type": "markdown",
      "metadata": {
        "id": "view-in-github",
        "colab_type": "text"
      },
      "source": [
        "<a href=\"https://colab.research.google.com/github/epg900/v2ray/blob/main/V2Ray.ipynb\" target=\"_parent\"><img src=\"https://colab.research.google.com/assets/colab-badge.svg\" alt=\"Open In Colab\"/></a>"
      ]
    },
    {
      "cell_type": "code",
      "execution_count": null,
      "metadata": {
        "colab": {
          "background_save": true
        },
        "id": "TQehMQceRICp"
      },
      "outputs": [],
      "source": [
        "# @title V2Ray Server\n",
        "import json, base64, uuid, os, re, time\n",
        "from IPython.display import HTML, clear_output\n",
        "from threading import Timer\n",
        "from subprocess import Popen , PIPE\n",
        "\n",
        "!pip install pyqrcode\n",
        "clear_output()\n",
        "import pyqrcode\n",
        "\n",
        "if os.path.isdir('server'):\n",
        "  os.system('rm -r server')\n",
        "os.system('mkdir server')\n",
        "\n",
        "%cd server\n",
        "\n",
        "!wget https://github.com/cloudflare/cloudflared/releases/latest/download/cloudflared-linux-amd64.deb\n",
        "clear_output()\n",
        "!wget https://github.com/v2fly/v2ray-core/releases/download/v4.45.2/v2ray-linux-64.zip\n",
        "clear_output()\n",
        "!dpkg -i cloudflared-linux-amd64.deb\n",
        "clear_output()\n",
        "!unzip v2ray-linux-64.zip\n",
        "clear_output()\n",
        "\n",
        "os.remove(\"config.json\")\n",
        "idx=str(uuid.uuid4())\n",
        "!chmod +x v2ray\n",
        "\n",
        "config='{\"log\":{\"access\":\"\",\"error\":\"\",\"loglevel\":\"warning\"},\"inbound\":{\"protocol\":\"vmess\",\"port\":%s,\"settings\":{\"clients\":[{\"id\":\"%s\",\"alterId\":64}]},\"streamSettings\":{\"network\":\"ws\"}},\"inboundDetour\":[],\"outbound\":{\"protocol\":\"freedom\",\"settings\":{}}}' % (str(9910),idx)\n",
        "with open(\"config.json\", \"w\") as f:\n",
        "  f.write(config)\n",
        "\n",
        "clear_output()\n",
        "\n",
        "!pkill v2ray\n",
        "!pkill cloudflared\n",
        "\n",
        "Popen(\"./v2ray run\".split(), cwd='./', env={'V2RAY_VMESS_AEAD_FORCED':'false'})\n",
        "Popen(\"cloudflared tunnel --url 127.0.0.1:9910 --logfile cloudflared.log\".split(), stdout=PIPE, stdin=PIPE, stderr=PIPE, universal_newlines=True)\n",
        "time.sleep(5)\n",
        "ff=open(\"cloudflared.log\", \"r\")\n",
        "txt=ff.read()\n",
        "ff.close()\n",
        "addr=re.findall(\"https://(.*?.trycloudflare.com)\",txt)\n",
        "\n",
        "d=json.loads('{\"add\":\"{0}\",\"aid\":\"64\",\"host\":\"\",\"id\":\"{1}\",\"net\":\"ws\",\"path\":\"\",\"port\":\"80\",\"ps\":\"1\",\"tls\":\"\",\"type\":\"none\",\"v\":\"2\"}')\n",
        "d[\"add\"] = addr[0]\n",
        "d[\"id\"] = idx\n",
        "\n",
        "clear_output()\n",
        "\n",
        "print(json.dumps(d))\n",
        "\n",
        "config=\"vmess://\"+base64.b64encode(json.dumps(d).encode()).decode(\"utf-8\")\n",
        "#print(config)\n",
        "url = pyqrcode.create(config)\n",
        "url.svg('qrcode.svg', scale=8)\n",
        "imgfile=base64.b64encode(open(\"qrcode.svg\",\"rb\").read()).decode('ascii')\n",
        "\n",
        "display(HTML(\"<center><img width='270px' height='270px'  src='data:image/svg+xml;base64,{}' /></center>\".format(imgfile)))\n",
        "html_text = '''<center><input type=\"hidden\" value=\"{}\" id=\"clipborad-text\">\n",
        "                <button onclick=\"copyToClipboard()\">Copy Config</button>\n",
        "                <script>\n",
        "                function copyToClipboard() {{\n",
        "                    var copyText = document.getElementById(\"clipborad-text\");\n",
        "                    copyText.select();\n",
        "                    navigator.clipboard.writeText(copyText.value);\n",
        "                    alert(\"Copied the text: \" + copyText.value);\n",
        "                }}\n",
        "                </script></center>'''.format(config)\n",
        "display(HTML(html_text))\n",
        "#time.sleep(7200)\n",
        "while True: pass"
      ]
    }
  ],
  "metadata": {
    "colab": {
      "provenance": [],
      "authorship_tag": "ABX9TyMOIwMCcnAkZ4xdFeVG7IFH",
      "include_colab_link": true
    },
    "kernelspec": {
      "display_name": "Python 3",
      "name": "python3"
    },
    "language_info": {
      "name": "python"
    }
  },
  "nbformat": 4,
  "nbformat_minor": 0
}