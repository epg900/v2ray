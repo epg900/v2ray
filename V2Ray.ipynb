{
  "cells": [
    {
      "cell_type": "markdown",
      "metadata": {
        "id": "view-in-github",
        "colab_type": "text"
      },
      "source": [
        "<a href=\"https://colab.research.google.com/github/epg900/v2ray/blob/main/V2Ray.ipynb\" target=\"_parent\"><img src=\"https://colab.research.google.com/assets/colab-badge.svg\" alt=\"Open In Colab\"/></a>"
      ]
    },
    {
      "cell_type": "code",
      "execution_count": null,
      "metadata": {
        "colab": {
          "background_save": true
        },
        "id": "TQehMQceRICp"
      },
      "outputs": [],
      "source": [
        "# @title V2Ray Server\n",
        "import json\n",
        "import base64\n",
        "import uuid\n",
        "import os\n",
        "\n",
        "!wget https://github.com/cloudflare/cloudflared/releases/latest/download/cloudflared-linux-amd64.deb\n",
        "!wget https://github.com/v2fly/v2ray-core/releases/download/v4.45.2/v2ray-linux-64.zip\n",
        "!dpkg -i cloudflared-linux-amd64.deb\n",
        "!unzip v2ray-linux-64.zip\n",
        "!pip install pyqrcode\n",
        "\n",
        "os.remove(\"config.json\")\n",
        "idx=str(uuid.uuid4())\n",
        "!chmod +x v2ray\n",
        "CONFIG_JSON1=\"{\\\"log\\\":{\\\"access\\\":\\\"\\\",\\\"error\\\":\\\"\\\",\\\"loglevel\\\":\\\"warning\\\"},\\\"inbound\\\":{\\\"protocol\\\":\\\"vmess\\\",\\\"port\\\":\"\n",
        "CONFIG_JSON2=\",\\\"settings\\\":{\\\"clients\\\":[{\\\"id\\\":\\\"\"\n",
        "CONFIG_JSON3=\"\\\",\\\"alterId\\\":64}]},\\\"streamSettings\\\":{\\\"network\\\":\\\"ws\\\"}},\\\"inboundDetour\\\":[],\\\"outbound\\\":{\\\"protocol\\\":\\\"freedom\\\",\\\"settings\\\":{}}}\"\n",
        "with open(\"config.json\", \"w\") as f:\n",
        "  f.write(CONFIG_JSON1+str(9910)+CONFIG_JSON2+idx+CONFIG_JSON3)\n",
        "\n",
        "from threading import Timer\n",
        "from subprocess import Popen , PIPE\n",
        "import re, time , base64\n",
        "import pyqrcode\n",
        "from IPython.display import HTML, clear_output\n",
        "\n",
        "Popen(\"./v2ray run\".split(), cwd='./', env={'V2RAY_VMESS_AEAD_FORCED':'false'})\n",
        "Popen(\"cloudflared tunnel --url 127.0.0.1:9910 --logfile cloudflared.log\".split(), stdout=PIPE, stdin=PIPE, stderr=PIPE, universal_newlines=True)\n",
        "time.sleep(5)\n",
        "ff=open(\"cloudflared.log\", \"r\")\n",
        "txt=ff.read()\n",
        "ff.close()\n",
        "addr=re.findall(\"https://(.*?.trycloudflare.com)\",txt)\n",
        "\n",
        "d=json.loads('{\"add\":\"{0}\",\"aid\":\"64\",\"host\":\"\",\"id\":\"{1}\",\"net\":\"ws\",\"path\":\"\",\"port\":\"80\",\"ps\":\"1\",\"tls\":\"\",\"type\":\"none\",\"v\":\"2\"}')\n",
        "d[\"add\"] = addr[0]\n",
        "d[\"id\"] = idx\n",
        "\n",
        "clear_output()\n",
        "\n",
        "print(addr[0])\n",
        "print(idx)\n",
        "print(json.dumps(d))\n",
        "\n",
        "config=\"vmess://\"+base64.b64encode(json.dumps(d).encode()).decode(\"utf-8\")\n",
        "url = pyqrcode.create(config)\n",
        "url.svg('qrcode.svg', scale=8)\n",
        "imgfile=base64.b64encode(open(\"qrcode.svg\",\"rb\").read()).decode('ascii')\n",
        "display(HTML(\"<center><img width='270px' height='270px'  src='data:image/svg+xml;base64,{}' /></center>\".format(imgfile)))\n",
        "time.sleep(7200)\n"
      ]
    }
  ],
  "metadata": {
    "colab": {
      "provenance": [],
      "authorship_tag": "ABX9TyODL+CCatcFh/GRPwI1YSxQ",
      "include_colab_link": true
    },
    "kernelspec": {
      "display_name": "Python 3",
      "name": "python3"
    },
    "language_info": {
      "name": "python"
    }
  },
  "nbformat": 4,
  "nbformat_minor": 0
}