{
  "cells": [
    {
      "cell_type": "markdown",
      "metadata": {
        "id": "view-in-github",
        "colab_type": "text"
      },
      "source": [
        "<a href=\"https://colab.research.google.com/github/epg900/v2ray/blob/main/V2Ray.ipynb\" target=\"_parent\"><img src=\"https://colab.research.google.com/assets/colab-badge.svg\" alt=\"Open In Colab\"/></a>"
      ]
    },
    {
      "cell_type": "code",
      "execution_count": null,
      "metadata": {
        "cellView": "form",
        "colab": {
          "background_save": true,
          "base_uri": "https://localhost:8080/",
          "height": 424
        },
        "id": "TQehMQceRICp",
        "outputId": "db9d5584-973c-446e-b6af-65dd24090c30"
      },
      "outputs": [
        {
          "name": "stdout",
          "output_type": "stream",
          "text": [
            "silent-denial-guestbook-cliff.trycloudflare.com\n",
            "9d31e25b-53a7-469e-8d9c-cee8b66c913d\n",
            "{\"add\": \"silent-denial-guestbook-cliff.trycloudflare.com\", \"aid\": \"64\", \"host\": \"\", \"id\": \"9d31e25b-53a7-469e-8d9c-cee8b66c913d\", \"net\": \"ws\", \"path\": \"\", \"port\": \"80\", \"ps\": \"1\", \"tls\": \"\", \"type\": \"none\", \"v\": \"2\"}\n"
          ]
        },
        {
          "data": {
            "text/html": [
              "<center><img width='270px' height='270px'  src='data:image/svg+xml;base64,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' /></center>"
            ],
            "text/plain": [
              "<IPython.core.display.HTML object>"
            ]
          },
          "metadata": {},
          "output_type": "display_data"
        }
      ],
      "source": [
        "# @title V2Ray Server\n",
        "import json\n",
        "import base64\n",
        "import uuid\n",
        "import os\n",
        "\n",
        "!wget https://github.com/cloudflare/cloudflared/releases/latest/download/cloudflared-linux-amd64.deb\n",
        "!wget https://github.com/v2fly/v2ray-core/releases/download/v4.45.2/v2ray-linux-64.zip\n",
        "!dpkg -i cloudflared-linux-amd64.deb\n",
        "!unzip v2ray-linux-64.zip\n",
        "!pip install pyqrcode\n",
        "\n",
        "os.remove(\"config.json\")\n",
        "idx=str(uuid.uuid4())\n",
        "!chmod +x v2ray\n",
        "CONFIG_JSON1=\"{\\\"log\\\":{\\\"access\\\":\\\"\\\",\\\"error\\\":\\\"\\\",\\\"loglevel\\\":\\\"warning\\\"},\\\"inbound\\\":{\\\"protocol\\\":\\\"vmess\\\",\\\"port\\\":\"\n",
        "CONFIG_JSON2=\",\\\"settings\\\":{\\\"clients\\\":[{\\\"id\\\":\\\"\"\n",
        "CONFIG_JSON3=\"\\\",\\\"alterId\\\":64}]},\\\"streamSettings\\\":{\\\"network\\\":\\\"ws\\\"}},\\\"inboundDetour\\\":[],\\\"outbound\\\":{\\\"protocol\\\":\\\"freedom\\\",\\\"settings\\\":{}}}\"\n",
        "with open(\"config.json\", \"w\") as f:\n",
        "  f.write(CONFIG_JSON1+str(9910)+CONFIG_JSON2+idx+CONFIG_JSON3)\n",
        "\n",
        "from threading import Timer\n",
        "from subprocess import Popen , PIPE\n",
        "import re, time , base64\n",
        "import pyqrcode\n",
        "from IPython.display import HTML, clear_output\n",
        "\n",
        "Popen(\"./v2ray run\".split(), cwd='./', env={'V2RAY_VMESS_AEAD_FORCED':'false'})\n",
        "Popen(\"cloudflared tunnel --url 127.0.0.1:9910 --logfile cloudflared.log\".split(), stdout=PIPE, stdin=PIPE, stderr=PIPE, universal_newlines=True)\n",
        "time.sleep(5)\n",
        "ff=open(\"cloudflared.log\", \"r\")\n",
        "txt=ff.read()\n",
        "ff.close()\n",
        "addr=re.findall(\"https://(.*?.trycloudflare.com)\",txt)\n",
        "\n",
        "d=json.loads('{\"add\":\"{0}\",\"aid\":\"64\",\"host\":\"\",\"id\":\"{1}\",\"net\":\"ws\",\"path\":\"\",\"port\":\"80\",\"ps\":\"1\",\"tls\":\"\",\"type\":\"none\",\"v\":\"2\"}')\n",
        "d[\"add\"] = addr[0]\n",
        "d[\"id\"] = idx\n",
        "\n",
        "clear_output()\n",
        "\n",
        "print(addr[0])\n",
        "print(idx)\n",
        "print(json.dumps(d))\n",
        "\n",
        "config=\"vmess://\"+base64.b64encode(json.dumps(d).encode()).decode(\"utf-8\")\n",
        "url = pyqrcode.create(config)\n",
        "url.svg('qrcode.svg', scale=8)\n",
        "imgfile=base64.b64encode(open(\"qrcode.svg\",\"rb\").read()).decode('ascii')\n",
        "display(HTML(\"<center><img width='270px' height='270px'  src='data:image/svg+xml;base64,{}' /></center>\".format(imgfile)))\n",
        "time.sleep(7200)\n"
      ]
    }
  ],
  "metadata": {
    "colab": {
      "provenance": [],
      "authorship_tag": "ABX9TyODL+CCatcFh/GRPwI1YSxQ",
      "include_colab_link": true
    },
    "kernelspec": {
      "display_name": "Python 3",
      "name": "python3"
    },
    "language_info": {
      "name": "python"
    }
  },
  "nbformat": 4,
  "nbformat_minor": 0
}