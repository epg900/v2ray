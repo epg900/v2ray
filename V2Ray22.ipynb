{
  "cells": [
    {
      "cell_type": "markdown",
      "metadata": {
        "id": "view-in-github",
        "colab_type": "text"
      },
      "source": [
        "<a href=\"https://colab.research.google.com/github/epg900/v2ray/blob/main/V2Ray22.ipynb\" target=\"_parent\"><img src=\"https://colab.research.google.com/assets/colab-badge.svg\" alt=\"Open In Colab\"/></a>"
      ]
    },
    {
      "cell_type": "code",
      "execution_count": null,
      "metadata": {
        "id": "TQehMQceRICp"
      },
      "outputs": [],
      "source": [
        "# @title V2Ray Server\n",
        "import json, base64, uuid, os, re, time\n",
        "from IPython.display import HTML, clear_output\n",
        "from threading import Timer\n",
        "from subprocess import Popen , PIPE\n",
        "\n",
        "!pip install pyqrcode\n",
        "clear_output()\n",
        "import pyqrcode\n",
        "\n",
        "if os.path.isdir('server'):\n",
        "  os.system('rm -r server')\n",
        "os.system('mkdir server')\n",
        "\n",
        "%cd server\n",
        "\n",
        "!wget https://github.com/cloudflare/cloudflared/releases/latest/download/cloudflared-linux-amd64.deb\n",
        "clear_output()\n",
        "!wget https://github.com/v2fly/v2ray-core/releases/download/v4.45.2/v2ray-linux-64.zip\n",
        "clear_output()\n",
        "!dpkg -i cloudflared-linux-amd64.deb\n",
        "clear_output()\n",
        "!unzip v2ray-linux-64.zip\n",
        "clear_output()\n",
        "\n",
        "os.remove(\"config.json\")\n",
        "idx=str(uuid.uuid4())\n",
        "!chmod +x v2ray\n",
        "\n",
        "config='{\"log\":{\"access\":\"\",\"error\":\"\",\"loglevel\":\"warning\"},\"inbound\":{\"protocol\":\"vmess\",\"port\":%s,\"settings\":{\"clients\":[{\"id\":\"%s\",\"alterId\":64}]},\"streamSettings\":{\"network\":\"ws\"}},\"inboundDetour\":[],\"outbound\":{\"protocol\":\"freedom\",\"settings\":{}}}' % (str(9910),idx)\n",
        "with open(\"config.json\", \"w\") as f:\n",
        "  f.write(config)\n",
        "\n",
        "clear_output()\n",
        "\n",
        "!pkill v2ray\n",
        "!pkill cloudflared\n",
        "!pkill ngrok\n",
        "\n",
        "\n",
        "\n",
        "Popen(\"./v2ray run\".split(), cwd='./', env={'V2RAY_VMESS_AEAD_FORCED':'false'})\n",
        "#Popen(\"cloudflared tunnel --url 127.0.0.1:9910 --logfile cloudflared.log\".split(), stdout=PIPE, stdin=PIPE, stderr=PIPE, universal_newlines=True)\n",
        "#time.sleep(5)\n",
        "#ff=open(\"cloudflared.log\", \"r\")\n",
        "#txt=ff.read()\n",
        "#ff.close()\n",
        "#addr=re.findall(\"https://(.*?.trycloudflare.com)\",txt)\n",
        "\n",
        "!wget https://bin.equinox.io/c/4VmDzA7iaHb/ngrok-stable-linux-amd64.zip\n",
        "!unzip ngrok-stable-linux-amd64.zip\n",
        "!chmod +x ./ngrok\n",
        "\n",
        "\n",
        "with open('/root/ngrok.yml','w') as f:\n",
        " f.write('''authtoken: 2bIt8LOXGWLI6wXMfXZTgQLaXfO_58bLpZg9oQ9NfZhpeaD7F\n",
        "region: us\n",
        "update: false\n",
        "update_channel: stable\n",
        "web_addr: localhost:8098\n",
        "tunnels:\n",
        "   v2ray:\n",
        "     addr: 9910\n",
        "     proto: http\n",
        "     inspect: false\n",
        "''')\n",
        "\n",
        "\n",
        "#from google.colab.output import eval_js\n",
        "#url=eval_js(\"google.colab.kernel.proxyPort(9910)\")\n",
        "\n",
        "Popen(\"./ngrok start --config /root/ngrok.yml --all \".split(), stdout=PIPE, stdin=PIPE, stderr=PIPE, shell=False)\n",
        "\n",
        "time.sleep(5)\n",
        "!curl localhost:8098/api/tunnels > data.json\n",
        "data=json.loads(open('data.json','r').read())\n",
        "url=data['tunnels'][0]['public_url'][8:]\n",
        "\n",
        "\n",
        "d=json.loads('{\"add\":\"{0}\",\"aid\":\"64\",\"host\":\"\",\"id\":\"{1}\",\"net\":\"ws\",\"path\":\"\",\"port\":\"80\",\"ps\":\"1\",\"tls\":\"\",\"type\":\"none\",\"v\":\"2\"}')\n",
        "d[\"add\"] = url\n",
        "d[\"id\"] = idx\n",
        "\n",
        "clear_output()\n",
        "\n",
        "print(json.dumps(d))\n",
        "\n",
        "\n",
        "config=\"vmess://\"+base64.b64encode(json.dumps(d).encode()).decode(\"utf-8\")\n",
        "#print(config)\n",
        "url = pyqrcode.create(config)\n",
        "url.svg('qrcode.svg', scale=8)\n",
        "imgfile=base64.b64encode(open(\"qrcode.svg\",\"rb\").read()).decode('ascii')\n",
        "\n",
        "display(HTML(\"<center><img width='270px' height='270px'  src='data:image/svg+xml;base64,{}' /></center>\".format(imgfile)))\n",
        "html_text = '''<center><input type=\"hidden\" value=\"{}\" id=\"clipborad-text\">\n",
        "                <button onclick=\"copyToClipboard()\">Copy Config</button>\n",
        "                <script>\n",
        "                function copyToClipboard() {{\n",
        "                    var copyText = document.getElementById(\"clipborad-text\");\n",
        "                    copyText.select();\n",
        "                    navigator.clipboard.writeText(copyText.value);\n",
        "                    alert(\"Copied the text: \" + copyText.value);\n",
        "                }}\n",
        "                </script></center>'''.format(config)\n",
        "display(HTML(html_text))\n",
        "#time.sleep(7200)\n",
        "#while True: pass"
      ]
    },
    {
      "cell_type": "code",
      "source": [],
      "metadata": {
        "id": "wbBcnfI0ZSUi"
      },
      "execution_count": null,
      "outputs": []
    },
    {
      "cell_type": "code",
      "execution_count": null,
      "metadata": {
        "colab": {
          "background_save": true
        },
        "id": "hl2SHfBKpYG-",
        "cellView": "form"
      },
      "outputs": [],
      "source": [
        "# @title V2Ray Server ngrok\n",
        "\n",
        "\n",
        "USE_FREE_TOKEN = False\n",
        "TOKEN = \"1nrjUau4uq4HtqUJIcbGCUmvRVT_3dLq4GMbE3BPtwHh11pnS\"\n",
        "REGION = \"US\"\n",
        "ID=\"\"\n",
        "DEFAULT_SET = True\n",
        "PORT_FORWARD = \"ngrok\"\n",
        "RUN_WITH_LATEST = False\n",
        "\n",
        "import json\n",
        "import base64\n",
        "import uuid\n",
        "import os, subprocess\n",
        "import urllib.request\n",
        "import re\n",
        "from IPython.display import HTML, clear_output\n",
        "from subprocess import Popen, PIPE, run\n",
        "import pandas as pd\n",
        "import requests\n",
        "\n",
        "HOME = os.path.expanduser(\"~\")\n",
        "if not os.path.exists(f\"{HOME}/.ipython/ocr.py\"):\n",
        "    hCode = \"https://raw.githubusercontent.com/biplobsd/\" \\\n",
        "                \"OneClickRun/master/res/ocr.py\"\n",
        "    urllib.request.urlretrieve(hCode, f\"{HOME}/.ipython/ocr.py\")\n",
        "\n",
        "from ocr import PortForward_wrapper, findPackageR, textAn, findProcess\n",
        "\n",
        "def show_qr(text, v=True):\n",
        "  try:\n",
        "    from MyQR import myqr\n",
        "  except:\n",
        "    Popen(\"pip install myqr\".split()).wait()\n",
        "  Popen([\"myqr\",text]+\"--version 5 --level H -n qrcode.png -d /tmp\".split()).wait()\n",
        "  if v:\n",
        "    from PIL import Image\n",
        "    im = Image.open(\"/tmp/qrcode.png\")\n",
        "    os.remove(\"/tmp/qrcode.png\")\n",
        "    im.show()\n",
        "    import matplotlib.pyplot as plt\n",
        "    plt.figure(figsize=(5,5))\n",
        "    plt.imshow(im)\n",
        "    plt.axis('off')\n",
        "    plt.show()\n",
        "  else:\n",
        "    with open(\"/tmp/qrcode.png\", \"rb\") as imageFile:\n",
        "      imgb64 = base64.b64encode(imageFile.read())\n",
        "    os.remove(\"/tmp/qrcode.png\")\n",
        "    return imgb64\n",
        "\n",
        "def v2ray(id=None, port=9999):\n",
        "  if RUN_WITH_LATEST:\n",
        "    found = findPackageR('v2fly/v2ray-core', 'v2ray-linux-64.zip', all_=True)\n",
        "    downUrl = found['assets']['browser_download_url']\n",
        "    tagName = found['tag_name']\n",
        "  else:\n",
        "    downUrl = 'https://github.com/v2fly/v2ray-core/releases/download/v4.45.2/v2ray-linux-64.zip'\n",
        "    tagName = 'v4.45.2'\n",
        "\n",
        "  print(f\"Installing v2ray {tagName} ...\")\n",
        "  if not os.path.exists(\"tools/v2raybin\"):\n",
        "    os.system(f'mkdir -p -m 777 tools/v2raybin && cd tools/v2raybin  && curl -L -H \"Cache-Control: no-cache\" -o v2ray.zip {downUrl} && unzip v2ray.zip  && chmod +x v2ray  && rm -rf v2ray.zip  && chgrp -R 0 ../  && chmod -R g+rwX ../')\n",
        "  CONFIG_JSON1=\"{\\\"log\\\":{\\\"access\\\":\\\"\\\",\\\"error\\\":\\\"\\\",\\\"loglevel\\\":\\\"warning\\\"},\\\"inbound\\\":{\\\"protocol\\\":\\\"vmess\\\",\\\"port\\\":\"\n",
        "  CONFIG_JSON2=\",\\\"settings\\\":{\\\"clients\\\":[{\\\"id\\\":\\\"\"\n",
        "  CONFIG_JSON3=\"\\\",\\\"alterId\\\":64}]},\\\"streamSettings\\\":{\\\"network\\\":\\\"ws\\\"}},\\\"inboundDetour\\\":[],\\\"outbound\\\":{\\\"protocol\\\":\\\"freedom\\\",\\\"settings\\\":{}}}\"\n",
        "  with open(\"tools/v2raybin/config.json\", \"w\") as f:\n",
        "    f.write(CONFIG_JSON1+str(port)+CONFIG_JSON2+id+CONFIG_JSON3)\n",
        "\n",
        "  if not findProcess('./v2ray','run'):\n",
        "    return Popen(\"./v2ray run\".split(), cwd='tools/v2raybin/', env={'V2RAY_VMESS_AEAD_FORCED':'false'})\n",
        "\n",
        "port=9910\n",
        "!pkill v2ray\n",
        "if not ID:\n",
        "  ID=str(uuid.uuid4())\n",
        "print(\"Setting up v2ray server ... \")\n",
        "v2ray(ID,port)\n",
        "print(\"Setting up tunnel ... \")\n",
        "'''\n",
        "!curl -s https://ngrok-agent.s3.amazonaws.com/ngrok.asc | sudo tee /etc/apt/trusted.gpg.d/ngrok.asc >/dev/null && echo \"deb https://ngrok-agent.s3.amazonaws.com buster main\" | sudo tee /etc/apt/sources.list.d/ngrok.list && sudo apt update && sudo apt install ngrok\n",
        "!mkdir '/root/.config/ngrok'\n",
        "with open('/root/.config/ngrok/ngrok.yml','w') as f:\n",
        " f.write(authtoken: 1nrjUau4uq4HtqUJIcbGCUmvRVT_3dLq4GMbE3BPtwHh11pnS\n",
        "region: us\n",
        "update: false\n",
        "update_channel: stable\n",
        "web_addr: localhost:8098\n",
        "tunnels:\n",
        "   v2ray:\n",
        "     addr: 9910\n",
        "     proto: http\n",
        "     inspect: false\n",
        ")\n",
        "\n",
        "\n",
        "!ngrok config upgrade\n",
        "!ngrok config check\n",
        "configPath='/root/.config/ngrok/ngrok.yml'\n",
        "\n",
        "subprocess.run(\n",
        "                    f\"ngrok start --config {configPath} --all &\",\n",
        "                    shell=False,\n",
        "                    stdout=subprocess.PIPE,\n",
        "                    stderr=subprocess.STDOUT,\n",
        "                    cwd=None,\n",
        "                ).stdout.decode(\"utf-8\").strip()\n",
        "Popen(f\"ngrok start --all --config {configPath} &\".split(), stdout=PIPE, stdin=PIPE, stderr=PIPE, shell=False)\n",
        "\n",
        "'''\n",
        "Server = PortForward_wrapper(\n",
        "    PORT_FORWARD, TOKEN, USE_FREE_TOKEN, [['v2ray', port, 'http']],\n",
        "    REGION.lower(), [f\"{HOME}/.ngrok2/V2ray.yml\", 8097]\n",
        ").start('v2ray', displayB=False)\n",
        "\n",
        "d=json.loads('{\"add\":\"{0}\",\"aid\":\"64\",\"host\":\"\",\"id\":\"{1}\",\"net\":\"ws\",\"path\":\"\",\"port\":\"80\",\"ps\":\"1\",\"tls\":\"\",\"type\":\"none\",\"v\":\"2\"}')\n",
        "d[\"add\"]=\"aaa\"#re.search(\"(?<=//).*?(/|$)\",Server[\"url\"]).group()\n",
        "d[\"id\"]=ID\n",
        "clear_output()\n",
        "# print(d)\n",
        "config=\"vmess://\"+base64.b64encode(json.dumps(d).encode()).decode(\"utf-8\")\n",
        "# print(config)\n",
        "imgfile = show_qr(config, v=False).decode()\n",
        "display(HTML(\"<center><img width='270px' height='270px'  src='data:image/png;base64,{}' /></center>\".format(imgfile)))\n",
        "html_text = '''<center><input type=\"hidden\" value=\"{}\" id=\"clipborad-text\">\n",
        "                <button onclick=\"copyToClipboard()\">Copy Config</button>\n",
        "                <script>\n",
        "                function copyToClipboard() {{\n",
        "                    var copyText = document.getElementById(\"clipborad-text\");\n",
        "                    copyText.select();\n",
        "                    navigator.clipboard.writeText(copyText.value);\n",
        "                    alert(\"Copied the text: \" + copyText.value);\n",
        "                }}\n",
        "                </script></center>'''.format(config)\n",
        "display(HTML(html_text))\n",
        "#time.sleep(7200)\n",
        "#while True: pass"
      ]
    },
    {
      "cell_type": "code",
      "execution_count": null,
      "metadata": {
        "id": "8uL6YetNrI-6"
      },
      "outputs": [],
      "source": [
        "\n",
        "!cat /root/.config/ngrok/ngrok.yml"
      ]
    },
    {
      "cell_type": "code",
      "execution_count": null,
      "metadata": {
        "id": "w3gMVcah1Wmd"
      },
      "outputs": [],
      "source": [
        "!ps aux"
      ]
    },
    {
      "cell_type": "code",
      "execution_count": null,
      "metadata": {
        "id": "ELP55Lfxkt5f"
      },
      "outputs": [],
      "source": [
        "!ngrok config upgrade\n",
        "!ngrok config check"
      ]
    },
    {
      "cell_type": "code",
      "execution_count": null,
      "metadata": {
        "colab": {
          "base_uri": "https://localhost:8080/"
        },
        "id": "yLRjEjywma2C",
        "outputId": "4ece167d-da75-45ea-921e-1886c72731ee"
      },
      "outputs": [
        {
          "data": {
            "text/plain": [
              "<Popen: returncode: None args: ['ngrok', 'start', 'v2ray']>"
            ]
          },
          "execution_count": 2,
          "metadata": {},
          "output_type": "execute_result"
        }
      ],
      "source": [
        "Popen(\"ngrok start v2ray\".split(), stdout=PIPE, stdin=PIPE, stderr=PIPE, universal_newlines=True)"
      ]
    },
    {
      "cell_type": "code",
      "execution_count": null,
      "metadata": {
        "id": "1-_BOWNOp5B_"
      },
      "outputs": [],
      "source": [
        "!curl localhost:8098/api/tunnels"
      ]
    },
    {
      "cell_type": "code",
      "execution_count": null,
      "metadata": {
        "id": "ebvqsV53aiw9"
      },
      "outputs": [],
      "source": [
        "# @title cloudflare test\n",
        "from threading import Timer\n",
        "!wget https://github.com/cloudflare/cloudflared/releases/latest/download/cloudflared-linux-amd64\n",
        "!chmod +x cloudflared-linux-amd64\n",
        "# target task function\n",
        "def task(message):\n",
        "    # report the custom message\n",
        "    !./cloudflared-linux-amd64 tunnel --url localhost:8000\n",
        "    #!socat TCP4-LISTEN:34.30.64.213,fork TCP:http://localhost:8000\n",
        "\n",
        "# create a thread timer object\n",
        "timer = Timer(3, task,args=('Hello world',))\n",
        "# start the timer object\n",
        "timer.start()\n",
        "!python -m http.server"
      ]
    },
    {
      "cell_type": "code",
      "execution_count": null,
      "metadata": {
        "cellView": "form",
        "id": "H3P1U5xGjAgA"
      },
      "outputs": [],
      "source": [
        "# @title cloudflare install\n",
        "!sudo mkdir -p --mode=0755 /usr/share/keyrings\n",
        "!curl -fsSL https://pkg.cloudflare.com/cloudflare-main.gpg | sudo tee /usr/share/keyrings/cloudflare-main.gpg >/dev/null\n",
        "\n",
        "!echo 'deb [signed-by=/usr/share/keyrings/cloudflare-main.gpg] https://pkg.cloudflare.com/cloudflared bookworm main' | sudo tee /etc/apt/sources.list.d/cloudflared.list\n",
        "\n",
        "\n",
        "!sudo apt-get update && sudo apt-get install cloudflared"
      ]
    },
    {
      "cell_type": "code",
      "execution_count": null,
      "metadata": {
        "cellView": "form",
        "id": "6_sqnNuShhKb"
      },
      "outputs": [],
      "source": [
        "# @title colab\n",
        "!curl https://ipecho.net/plain\n",
        "print('\\n')\n",
        "from google.colab.output import eval_js\n",
        "url=eval_js(\"google.colab.kernel.proxyPort(9910)\")\n",
        "print(f'{url}\\n')\n",
        "!python -m http.server 9910"
      ]
    },
    {
      "cell_type": "code",
      "execution_count": null,
      "metadata": {
        "id": "n48FTDu90R3w"
      },
      "outputs": [],
      "source": [
        "!pip install pyngrok\n",
        "from pyngrok import ngrok, conf\n",
        "\n",
        "conf.get_default().auth_token = '1nrjUau4uq4HtqUJIcbGCUmvRVT_3dLq4GMbE3BPtwHh11pnS'\n",
        "\n",
        "url = ngrok.connect(\"8000\",\"tcp\").public_url\n",
        "print(url)\n",
        "!python -m http.server"
      ]
    }
  ],
  "metadata": {
    "colab": {
      "provenance": [],
      "authorship_tag": "ABX9TyPV/5v1jCeMtzcNa4aoXo08",
      "include_colab_link": true
    },
    "kernelspec": {
      "display_name": "Python 3",
      "name": "python3"
    },
    "language_info": {
      "name": "python"
    }
  },
  "nbformat": 4,
  "nbformat_minor": 0
}